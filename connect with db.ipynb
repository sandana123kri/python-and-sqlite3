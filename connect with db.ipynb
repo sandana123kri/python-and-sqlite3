{
 "cells": [
  {
   "cell_type": "code",
   "execution_count": 1,
   "id": "8b351bc2",
   "metadata": {},
   "outputs": [],
   "source": [
    "import sqlite3\n",
    "db=sqlite3.connect('empolyee.sqlite')"
   ]
  },
  {
   "cell_type": "code",
   "execution_count": 2,
   "id": "efcc11ae",
   "metadata": {},
   "outputs": [
    {
     "data": {
      "text/plain": [
       "<sqlite3.Cursor at 0x7fcef6670810>"
      ]
     },
     "execution_count": 2,
     "metadata": {},
     "output_type": "execute_result"
    }
   ],
   "source": [
    "cur=db.cursor()\n",
    "sql_query='Create table employee_details(employee_id int Primary key,Name Text,Age int,Salary Text)'\n",
    "cur.execute(sql_query)"
   ]
  },
  {
   "cell_type": "code",
   "execution_count": 3,
   "id": "3f5aa9f7",
   "metadata": {},
   "outputs": [
    {
     "data": {
      "text/plain": [
       "<sqlite3.Cursor at 0x7fcef6670810>"
      ]
     },
     "execution_count": 3,
     "metadata": {},
     "output_type": "execute_result"
    }
   ],
   "source": [
    "cur"
   ]
  },
  {
   "cell_type": "code",
   "execution_count": 4,
   "id": "d699e679",
   "metadata": {},
   "outputs": [
    {
     "data": {
      "text/plain": [
       "<sqlite3.Cursor at 0x7fcef6670810>"
      ]
     },
     "execution_count": 4,
     "metadata": {},
     "output_type": "execute_result"
    }
   ],
   "source": [
    "cur.execute('Insert into employee_details values(100,\"Rishabh\",25,\"500000\")')"
   ]
  },
  {
   "cell_type": "code",
   "execution_count": 5,
   "id": "74e4d602",
   "metadata": {},
   "outputs": [],
   "source": [
    "db.commit()"
   ]
  },
  {
   "cell_type": "code",
   "execution_count": 6,
   "id": "00482387",
   "metadata": {},
   "outputs": [],
   "source": [
    "cur.execute('Insert into employee_details values(101,\"Abishek\",26,\"600000\")')\n",
    "cur.execute('Insert into employee_details values(102,\"Aman\",24,\"750000\")')\n",
    "db.commit()"
   ]
  },
  {
   "cell_type": "code",
   "execution_count": 7,
   "id": "860b631e",
   "metadata": {},
   "outputs": [],
   "source": [
    "cur.execute('Delete from employee_details where employee_id=101')\n",
    "db.commit()"
   ]
  },
  {
   "cell_type": "code",
   "execution_count": 8,
   "id": "3fc81f1b",
   "metadata": {},
   "outputs": [],
   "source": [
    "value=102\n",
    "cur.execute('Delete from employee_details where employee_id=?',(value,))\n",
    "db.commit()"
   ]
  },
  {
   "cell_type": "code",
   "execution_count": 11,
   "id": "18a13249",
   "metadata": {},
   "outputs": [],
   "source": [
    "employee_id=[101,102,103,104,105,106,107,108,109,110,111,112]\n",
    "name=['Aadarsh','Aarti','Siddharth','Aman','Amit','Shivansh','Vaibhav','Himanshu','Raman','Kunal','Adhira','Tanya']\n",
    "age=[25,27,25,24,30,26,23,26,25,26,29,24]\n",
    "department=['Marketing','Operations','Finance','Human Resource','Marketing','IT','Finance','IT','Operations','Marketing','Human Resource','Marketing']\n",
    "salary=['50000','60000','85000','75000','50000','90000','85000','90000','60000','50000','75000','50000']\n",
    "for i in range(len(employee_id)):\n",
    "    cur.execute('Insert into employee_details values(?,?,?,?)',(employee_id[i],name[i],age[i],salary[i]))\n",
    "db.commit()"
   ]
  },
  {
   "cell_type": "code",
   "execution_count": null,
   "id": "613736a6",
   "metadata": {},
   "outputs": [],
   "source": []
  }
 ],
 "metadata": {
  "kernelspec": {
   "display_name": "Python 3 (ipykernel)",
   "language": "python",
   "name": "python3"
  },
  "language_info": {
   "codemirror_mode": {
    "name": "ipython",
    "version": 3
   },
   "file_extension": ".py",
   "mimetype": "text/x-python",
   "name": "python",
   "nbconvert_exporter": "python",
   "pygments_lexer": "ipython3",
   "version": "3.9.13"
  }
 },
 "nbformat": 4,
 "nbformat_minor": 5
}
