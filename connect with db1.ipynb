{
 "cells": [
  {
   "cell_type": "code",
   "execution_count": 1,
   "id": "063a3616",
   "metadata": {},
   "outputs": [
    {
     "name": "stdout",
     "output_type": "stream",
     "text": [
      "Done\n"
     ]
    }
   ],
   "source": [
    "employee_id=[101,102,103,104,105,106,107,108,109,110,111,112]\n",
    "name=['Aadarsh','Aarti','Siddharth','Aman','Amit','Shivansh','Vaibhav','Himanshu','Raman','Kunal','Adhira','Tanya']\n",
    "age=[25,27,25,24,30,26,23,26,25,26,29,24]\n",
    "department=['Marketing','Operations','Finance','Human Resource','Marketing','IT','Finance','IT','Operations','Marketing','Human Resource','Marketing']\n",
    "salary=[50000,60000,85000,75000,50000,90000,85000,90000,60000,50000,75000,50000]\n",
    "import sqlite3\n",
    "import pandas as pd\n",
    "\n",
    "con = sqlite3.connect('Employee2.sqlite')\n",
    "df = pd.DataFrame({'employee_id': employee_id , 'name' : name , 'age' : age, 'department' : department, 'salary':salary})\n",
    "df.to_sql('Employee_Detail', con)\n",
    "print(\"Done\")\n"
   ]
  },
  {
   "cell_type": "code",
   "execution_count": 3,
   "id": "c0928b39",
   "metadata": {},
   "outputs": [
    {
     "data": {
      "text/html": [
       "<div>\n",
       "<style scoped>\n",
       "    .dataframe tbody tr th:only-of-type {\n",
       "        vertical-align: middle;\n",
       "    }\n",
       "\n",
       "    .dataframe tbody tr th {\n",
       "        vertical-align: top;\n",
       "    }\n",
       "\n",
       "    .dataframe thead th {\n",
       "        text-align: right;\n",
       "    }\n",
       "</style>\n",
       "<table border=\"1\" class=\"dataframe\">\n",
       "  <thead>\n",
       "    <tr style=\"text-align: right;\">\n",
       "      <th></th>\n",
       "      <th>employee_id</th>\n",
       "      <th>name</th>\n",
       "      <th>age</th>\n",
       "      <th>department</th>\n",
       "      <th>salary</th>\n",
       "    </tr>\n",
       "  </thead>\n",
       "  <tbody>\n",
       "    <tr>\n",
       "      <th>0</th>\n",
       "      <td>101</td>\n",
       "      <td>Aadarsh</td>\n",
       "      <td>25</td>\n",
       "      <td>Marketing</td>\n",
       "      <td>50000</td>\n",
       "    </tr>\n",
       "    <tr>\n",
       "      <th>1</th>\n",
       "      <td>102</td>\n",
       "      <td>Aarti</td>\n",
       "      <td>27</td>\n",
       "      <td>Operations</td>\n",
       "      <td>60000</td>\n",
       "    </tr>\n",
       "    <tr>\n",
       "      <th>2</th>\n",
       "      <td>103</td>\n",
       "      <td>Siddharth</td>\n",
       "      <td>25</td>\n",
       "      <td>Finance</td>\n",
       "      <td>85000</td>\n",
       "    </tr>\n",
       "    <tr>\n",
       "      <th>3</th>\n",
       "      <td>104</td>\n",
       "      <td>Aman</td>\n",
       "      <td>24</td>\n",
       "      <td>Human Resource</td>\n",
       "      <td>75000</td>\n",
       "    </tr>\n",
       "    <tr>\n",
       "      <th>4</th>\n",
       "      <td>105</td>\n",
       "      <td>Amit</td>\n",
       "      <td>30</td>\n",
       "      <td>Marketing</td>\n",
       "      <td>50000</td>\n",
       "    </tr>\n",
       "    <tr>\n",
       "      <th>5</th>\n",
       "      <td>106</td>\n",
       "      <td>Shivansh</td>\n",
       "      <td>26</td>\n",
       "      <td>IT</td>\n",
       "      <td>90000</td>\n",
       "    </tr>\n",
       "    <tr>\n",
       "      <th>6</th>\n",
       "      <td>107</td>\n",
       "      <td>Vaibhav</td>\n",
       "      <td>23</td>\n",
       "      <td>Finance</td>\n",
       "      <td>85000</td>\n",
       "    </tr>\n",
       "    <tr>\n",
       "      <th>7</th>\n",
       "      <td>108</td>\n",
       "      <td>Himanshu</td>\n",
       "      <td>26</td>\n",
       "      <td>IT</td>\n",
       "      <td>90000</td>\n",
       "    </tr>\n",
       "    <tr>\n",
       "      <th>8</th>\n",
       "      <td>109</td>\n",
       "      <td>Raman</td>\n",
       "      <td>25</td>\n",
       "      <td>Operations</td>\n",
       "      <td>60000</td>\n",
       "    </tr>\n",
       "    <tr>\n",
       "      <th>9</th>\n",
       "      <td>110</td>\n",
       "      <td>Kunal</td>\n",
       "      <td>26</td>\n",
       "      <td>Marketing</td>\n",
       "      <td>50000</td>\n",
       "    </tr>\n",
       "    <tr>\n",
       "      <th>10</th>\n",
       "      <td>111</td>\n",
       "      <td>Adhira</td>\n",
       "      <td>29</td>\n",
       "      <td>Human Resource</td>\n",
       "      <td>75000</td>\n",
       "    </tr>\n",
       "    <tr>\n",
       "      <th>11</th>\n",
       "      <td>112</td>\n",
       "      <td>Tanya</td>\n",
       "      <td>24</td>\n",
       "      <td>Marketing</td>\n",
       "      <td>50000</td>\n",
       "    </tr>\n",
       "  </tbody>\n",
       "</table>\n",
       "</div>"
      ],
      "text/plain": [
       "    employee_id       name  age      department  salary\n",
       "0           101    Aadarsh   25       Marketing   50000\n",
       "1           102      Aarti   27      Operations   60000\n",
       "2           103  Siddharth   25         Finance   85000\n",
       "3           104       Aman   24  Human Resource   75000\n",
       "4           105       Amit   30       Marketing   50000\n",
       "5           106   Shivansh   26              IT   90000\n",
       "6           107    Vaibhav   23         Finance   85000\n",
       "7           108   Himanshu   26              IT   90000\n",
       "8           109      Raman   25      Operations   60000\n",
       "9           110      Kunal   26       Marketing   50000\n",
       "10          111     Adhira   29  Human Resource   75000\n",
       "11          112      Tanya   24       Marketing   50000"
      ]
     },
     "execution_count": 3,
     "metadata": {},
     "output_type": "execute_result"
    }
   ],
   "source": [
    "df"
   ]
  },
  {
   "cell_type": "code",
   "execution_count": null,
   "id": "541e83c0",
   "metadata": {},
   "outputs": [],
   "source": [
    "## find out the no. of employee working in each department"
   ]
  },
  {
   "cell_type": "code",
   "execution_count": 2,
   "id": "6e99da2b",
   "metadata": {},
   "outputs": [
    {
     "name": "stdout",
     "output_type": "stream",
     "text": [
      "Marketing 4\n",
      "Operations 2\n",
      "Finance 2\n",
      "Human Resource 2\n",
      "IT 2\n"
     ]
    }
   ],
   "source": [
    "cur=con.cursor()\n",
    "cur.execute('Select * from Employee_Detail')\n",
    "dic={}\n",
    "for i in cur:\n",
    "    if i[4] not in dic:\n",
    "        dic[i[4]]=1\n",
    "    else:\n",
    "        dic[i[4]]+=1\n",
    "for i in dic:\n",
    "    print(i,dic[i])"
   ]
  },
  {
   "cell_type": "code",
   "execution_count": null,
   "id": "f54b62fd",
   "metadata": {},
   "outputs": [],
   "source": [
    "## find average salary for each department"
   ]
  },
  {
   "cell_type": "code",
   "execution_count": 4,
   "id": "1c14705c",
   "metadata": {},
   "outputs": [
    {
     "name": "stdout",
     "output_type": "stream",
     "text": [
      "('Finance', 85000.0)\n",
      "('Human Resource', 75000.0)\n",
      "('IT', 90000.0)\n",
      "('Marketing', 50000.0)\n",
      "('Operations', 60000.0)\n"
     ]
    }
   ],
   "source": [
    "cur.execute(\"SELECT department, AVG(salary) FROM Employee_Detail GROUP BY department\")\n",
    "for row in cur.fetchall():\n",
    "    print(row)"
   ]
  },
  {
   "cell_type": "code",
   "execution_count": null,
   "id": "c7808acd",
   "metadata": {},
   "outputs": [],
   "source": [
    "##List All Employees Older Than 25"
   ]
  },
  {
   "cell_type": "code",
   "execution_count": 5,
   "id": "f505a8df",
   "metadata": {},
   "outputs": [
    {
     "name": "stdout",
     "output_type": "stream",
     "text": [
      "(1, 102, 'Aarti', 27, 'Operations', 60000)\n",
      "(4, 105, 'Amit', 30, 'Marketing', 50000)\n",
      "(5, 106, 'Shivansh', 26, 'IT', 90000)\n",
      "(7, 108, 'Himanshu', 26, 'IT', 90000)\n",
      "(9, 110, 'Kunal', 26, 'Marketing', 50000)\n",
      "(10, 111, 'Adhira', 29, 'Human Resource', 75000)\n"
     ]
    }
   ],
   "source": [
    "cur.execute(\"SELECT * FROM Employee_Detail WHERE age > 25\")\n",
    "for row in cur.fetchall():\n",
    "    print(row)"
   ]
  },
  {
   "cell_type": "code",
   "execution_count": null,
   "id": "aacc72ed",
   "metadata": {},
   "outputs": [],
   "source": [
    "##Find the Total Number of Employees in Each Department"
   ]
  },
  {
   "cell_type": "code",
   "execution_count": 6,
   "id": "ab51e5d1",
   "metadata": {},
   "outputs": [
    {
     "name": "stdout",
     "output_type": "stream",
     "text": [
      "('Finance', 2)\n",
      "('Human Resource', 2)\n",
      "('IT', 2)\n",
      "('Marketing', 4)\n",
      "('Operations', 2)\n"
     ]
    }
   ],
   "source": [
    "cur.execute(\"SELECT department, COUNT(*) FROM Employee_Detail GROUP BY department\")\n",
    "for row in cur.fetchall():\n",
    "    print(row)"
   ]
  },
  {
   "cell_type": "code",
   "execution_count": null,
   "id": "b3e7f451",
   "metadata": {},
   "outputs": [],
   "source": [
    "##Retrieve Employees Earning More Than 70,000"
   ]
  },
  {
   "cell_type": "code",
   "execution_count": 7,
   "id": "012bdd25",
   "metadata": {},
   "outputs": [
    {
     "name": "stdout",
     "output_type": "stream",
     "text": [
      "(2, 103, 'Siddharth', 25, 'Finance', 85000)\n",
      "(3, 104, 'Aman', 24, 'Human Resource', 75000)\n",
      "(5, 106, 'Shivansh', 26, 'IT', 90000)\n",
      "(6, 107, 'Vaibhav', 23, 'Finance', 85000)\n",
      "(7, 108, 'Himanshu', 26, 'IT', 90000)\n",
      "(10, 111, 'Adhira', 29, 'Human Resource', 75000)\n"
     ]
    }
   ],
   "source": [
    "cur.execute(\"SELECT * FROM Employee_Detail WHERE salary > 70000\")\n",
    "for row in cur.fetchall():\n",
    "    print(row)"
   ]
  },
  {
   "cell_type": "code",
   "execution_count": null,
   "id": "239e21ae",
   "metadata": {},
   "outputs": [],
   "source": [
    "##Get the Maximum Salary in Each Department"
   ]
  },
  {
   "cell_type": "code",
   "execution_count": 8,
   "id": "4612d8e7",
   "metadata": {},
   "outputs": [
    {
     "name": "stdout",
     "output_type": "stream",
     "text": [
      "('Finance', 85000)\n",
      "('Human Resource', 75000)\n",
      "('IT', 90000)\n",
      "('Marketing', 50000)\n",
      "('Operations', 60000)\n"
     ]
    }
   ],
   "source": [
    "cur.execute(\"SELECT department, MAX(salary) FROM Employee_Detail GROUP BY department\")\n",
    "for row in cur.fetchall():\n",
    "    print(row)"
   ]
  },
  {
   "cell_type": "code",
   "execution_count": null,
   "id": "e83562ac",
   "metadata": {},
   "outputs": [],
   "source": [
    "## List Departments with More Than 2 Employees"
   ]
  },
  {
   "cell_type": "code",
   "execution_count": 9,
   "id": "80682a1f",
   "metadata": {},
   "outputs": [
    {
     "name": "stdout",
     "output_type": "stream",
     "text": [
      "('Marketing', 4)\n"
     ]
    }
   ],
   "source": [
    "cur.execute(\"SELECT department, COUNT(*) FROM Employee_Detail GROUP BY department HAVING COUNT(*) > 2\")\n",
    "for row in cur.fetchall():\n",
    "    print(row)"
   ]
  },
  {
   "cell_type": "code",
   "execution_count": null,
   "id": "b3b2ec2f",
   "metadata": {},
   "outputs": [],
   "source": [
    "##Find Employees with ‘IT’ Department"
   ]
  },
  {
   "cell_type": "code",
   "execution_count": 10,
   "id": "ef4c3901",
   "metadata": {},
   "outputs": [
    {
     "name": "stdout",
     "output_type": "stream",
     "text": [
      "(5, 106, 'Shivansh', 26, 'IT', 90000)\n",
      "(7, 108, 'Himanshu', 26, 'IT', 90000)\n"
     ]
    }
   ],
   "source": [
    "cur.execute(\"SELECT * FROM Employee_Detail WHERE department = 'IT'\")\n",
    "for row in cur.fetchall():\n",
    "    print(row)"
   ]
  },
  {
   "cell_type": "code",
   "execution_count": null,
   "id": "8d7cee56",
   "metadata": {},
   "outputs": [],
   "source": [
    "##Calculate the Sum of Salaries in the Marketing Department"
   ]
  },
  {
   "cell_type": "code",
   "execution_count": 11,
   "id": "ad3a0852",
   "metadata": {},
   "outputs": [
    {
     "name": "stdout",
     "output_type": "stream",
     "text": [
      "200000\n"
     ]
    }
   ],
   "source": [
    "cur.execute(\"SELECT SUM(salary) FROM Employee_Detail WHERE department = 'Marketing'\")\n",
    "result = cur.fetchone()\n",
    "print(result[0])"
   ]
  },
  {
   "cell_type": "code",
   "execution_count": null,
   "id": "32920a3e",
   "metadata": {},
   "outputs": [],
   "source": [
    "##Display Employee Details Sorted by Age"
   ]
  },
  {
   "cell_type": "code",
   "execution_count": 12,
   "id": "b248786f",
   "metadata": {},
   "outputs": [
    {
     "name": "stdout",
     "output_type": "stream",
     "text": [
      "(6, 107, 'Vaibhav', 23, 'Finance', 85000)\n",
      "(3, 104, 'Aman', 24, 'Human Resource', 75000)\n",
      "(11, 112, 'Tanya', 24, 'Marketing', 50000)\n",
      "(0, 101, 'Aadarsh', 25, 'Marketing', 50000)\n",
      "(2, 103, 'Siddharth', 25, 'Finance', 85000)\n",
      "(8, 109, 'Raman', 25, 'Operations', 60000)\n",
      "(5, 106, 'Shivansh', 26, 'IT', 90000)\n",
      "(7, 108, 'Himanshu', 26, 'IT', 90000)\n",
      "(9, 110, 'Kunal', 26, 'Marketing', 50000)\n",
      "(1, 102, 'Aarti', 27, 'Operations', 60000)\n",
      "(10, 111, 'Adhira', 29, 'Human Resource', 75000)\n",
      "(4, 105, 'Amit', 30, 'Marketing', 50000)\n"
     ]
    }
   ],
   "source": [
    "cur.execute(\"SELECT * FROM Employee_Detail ORDER BY age\")\n",
    "for row in cur.fetchall():\n",
    "    print(row)"
   ]
  },
  {
   "cell_type": "code",
   "execution_count": null,
   "id": "8deef52a",
   "metadata": {},
   "outputs": [],
   "source": [
    "##Find Employees in the ‘Finance’ and ‘IT’ Departments"
   ]
  },
  {
   "cell_type": "code",
   "execution_count": 13,
   "id": "78d85574",
   "metadata": {},
   "outputs": [
    {
     "name": "stdout",
     "output_type": "stream",
     "text": [
      "(2, 103, 'Siddharth', 25, 'Finance', 85000)\n",
      "(5, 106, 'Shivansh', 26, 'IT', 90000)\n",
      "(6, 107, 'Vaibhav', 23, 'Finance', 85000)\n",
      "(7, 108, 'Himanshu', 26, 'IT', 90000)\n"
     ]
    }
   ],
   "source": [
    "cur.execute(\"SELECT * FROM Employee_Detail WHERE department IN ('Finance', 'IT')\")\n",
    "for row in cur.fetchall():\n",
    "    print(row)"
   ]
  },
  {
   "cell_type": "code",
   "execution_count": null,
   "id": "6555f37d",
   "metadata": {},
   "outputs": [],
   "source": []
  }
 ],
 "metadata": {
  "kernelspec": {
   "display_name": "Python 3 (ipykernel)",
   "language": "python",
   "name": "python3"
  },
  "language_info": {
   "codemirror_mode": {
    "name": "ipython",
    "version": 3
   },
   "file_extension": ".py",
   "mimetype": "text/x-python",
   "name": "python",
   "nbconvert_exporter": "python",
   "pygments_lexer": "ipython3",
   "version": "3.9.13"
  }
 },
 "nbformat": 4,
 "nbformat_minor": 5
}
